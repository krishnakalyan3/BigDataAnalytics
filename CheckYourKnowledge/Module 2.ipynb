{
 "cells": [
  {
   "cell_type": "markdown",
   "metadata": {},
   "source": [
    "### Questions"
   ]
  },
  {
   "cell_type": "markdown",
   "metadata": {},
   "source": [
    "###### Question Batch 1"
   ]
  },
  {
   "cell_type": "markdown",
   "metadata": {},
   "source": [
    "1. In which phase would you expect to invest most of your project time and why? Where would expect to spend the least time? \n",
    "\n",
    "2. What are the benefits of doing a pilot program before a full scale rollout of a new analytical methodology? Discuss this in the context of the mini case study.\n",
    "\n",
    "3. What kinds of tools would be used in the following phases, and for which kinds of use scenarios? \n",
    "\n",
    "4. Now that you have completed the analytical project at Yoyodyne, you have an opportunity to repurpose this approach for an online eCommerce company. What phases of the lifecycle do you need to focus on to identify ways to do this?"
   ]
  },
  {
   "cell_type": "markdown",
   "metadata": {},
   "source": [
    "1. Data Preparation or Data Munging is the most time consuming process: Renaming Variables, Data Type Conversion, Encoding, Decoding, Merging Datasets, Transforming Data, etc. \n",
    "\n",
    "2. It is important to assess the benefits before implementing the model in the production environment. It is the time to verify that the Project works as expected, in other case, updates have to be done and run another pilot before implementation.\n",
    "\n",
    "3. Phase 2: Data Preparation\n",
    "A Sandbox is needed, and to Perform ETL or ELT in order to have the Data available. Is needed to be able to run exploratory queries in order to understand and get familiarized with the Data, as well as cleaning techniques to discern between what is needed to keep and to discard.\n",
    "    Phase 4: Model Execution\n",
    "Statistical Models defined on Phase 3 are needed. It is important to be able to divide the Data into Training and Testing sets (Using R or SAS), in order to run trials and record results of the model.\n",
    "Tools:\n",
    "Commercial: SAS IBM Matlab, Alpine Miner, STATISTICA, Mathematica\n",
    "Open Source: R and PL/R, Octave, WEKA, MADlib\n",
    "\n",
    "4. Mainly the first three phases have to be repurposed. \n",
    "First is important to focus on the Discovery Phase in order to learn about the business, and determine which type of analytical problem type will be conducted.\n",
    "Second, its important to prepare the Data, in order to explore, clean the data and be able to gain some insight about the Data.\n",
    "Third, determine the Methods, Techniques and Workflow in order to achieve a successful Model Planning."
   ]
  }
 ],
 "metadata": {
  "kernelspec": {
   "display_name": "Python 2",
   "language": "python",
   "name": "python2"
  },
  "language_info": {
   "codemirror_mode": {
    "name": "ipython",
    "version": 2
   },
   "file_extension": ".py",
   "mimetype": "text/x-python",
   "name": "python",
   "nbconvert_exporter": "python",
   "pygments_lexer": "ipython2",
   "version": "2.7.9"
  }
 },
 "nbformat": 4,
 "nbformat_minor": 0
}
