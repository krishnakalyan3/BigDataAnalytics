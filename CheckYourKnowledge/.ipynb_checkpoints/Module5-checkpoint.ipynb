{
 "cells": [
  {
   "cell_type": "markdown",
   "metadata": {},
   "source": [
    "# Questions"
   ]
  },
  {
   "cell_type": "markdown",
   "metadata": {},
   "source": [
    "##### Question Batch 1"
   ]
  },
  {
   "cell_type": "raw",
   "metadata": {},
   "source": [
    "1. How would you use GROUPING SETS to produce the same results as the following GROUP BY CUBE?\n",
    "SELECT state, productID, SUM(volume) FROM sales GROUP BY\n",
    "CUBE (state, productID) ORDER BY state, productID\n",
    "\n",
    "2. How would you show the sub-totals for each week, for each state, and for each product? (No other totals or grand totals are required.) Suppose the table structure is TABLE sales (productID VARCHAR, state CHAR(2), week DATE, volume INT)\n",
    "\n",
    "3. Discuss the utlity of grouping and group_id functons\n",
    "\n",
    "Give regular expressions for the following:\n",
    "! A regex that, given a URL, captures the domain name\n",
    "! A regex that captures PostgreSQL Dollar-quoted String literals\n",
    "Examples:\n",
    "\" $test$This is a string$test$"
   ]
  },
  {
   "cell_type": "markdown",
   "metadata": {},
   "source": [
    "###### Answers "
   ]
  },
  {
   "cell_type": "raw",
   "metadata": {},
   "source": [
    "1. select state, productID, SUM(volume) from sales group by grouping sets (state,productID)"
   ]
  },
  {
   "cell_type": "raw",
   "metadata": {},
   "source": [
    "2. select product,week, state, sum(volume) from sales group by rollup(product,week, state)"
   ]
  },
  {
   "cell_type": "raw",
   "metadata": {},
   "source": [
    "3. Grouping distnguishes NULL from summary markers, Can be used to filter output rows of duplicate grouping sets,\n",
    "such as in the following example:\n",
    "SELECT a, b, c, sum(p*q), group_id()\n",
    "FROM sales\n",
    "GROUP BY ROLLUP(a,b), CUBE(b,c)\n",
    "HAVING group_id()<1\n",
    "ORDER BY a,b,c;"
   ]
  },
  {
   "cell_type": "raw",
   "metadata": {},
   "source": [
    "4. /^[a-zA-Z0-9][a-zA-Z0-9-]{1,61}[a-zA-Z0-9]\\.[a-zA-Z]{2,}$/\n",
    "   /\\$[^$]*\\$/g"
   ]
  }
 ],
 "metadata": {
  "kernelspec": {
   "display_name": "Python 2",
   "language": "python",
   "name": "python2"
  },
  "language_info": {
   "codemirror_mode": {
    "name": "ipython",
    "version": 2
   },
   "file_extension": ".py",
   "mimetype": "text/x-python",
   "name": "python",
   "nbconvert_exporter": "python",
   "pygments_lexer": "ipython2",
   "version": "2.7.9"
  }
 },
 "nbformat": 4,
 "nbformat_minor": 0
}
