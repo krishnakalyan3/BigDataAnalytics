{
 "cells": [
  {
   "cell_type": "markdown",
   "metadata": {},
   "source": [
    "### Questions"
   ]
  },
  {
   "cell_type": "markdown",
   "metadata": {},
   "source": [
    "###### Question Batch 1"
   ]
  },
  {
   "cell_type": "markdown",
   "metadata": {},
   "source": [
    "1. What are the 3 characteristics of Big Data, and the main considerations in processing Big Data?\n",
    "\n",
    "2. What is an analytic sandbox? \n",
    "\n",
    "3. Explain the difference between Business Intelligence and Data Science. \n",
    "\n",
    "4. Describe the challenges of the current analytical architecture for Data Scientists.\n",
    "\n",
    "5. What are the key skill sets and behavioral characteristics of a Data Scientist?"
   ]
  },
  {
   "cell_type": "markdown",
   "metadata": {},
   "source": [
    "1. Data Volume: The volume is increasing exponentially, expected to have 35.2zb of data in 2020\n",
    "\tProcessing Complexity: \n",
    "\tChanging data structures\n",
    "\tIt use cases warranting additional transformations and analytical techniques.\n",
    "\tData Structure:\n",
    "    It is able to process in different data structures: Structured, Semi-Structured, Quasi-Structured, and Unstrctured\n",
    "    (Volume, Velocity , Variety)\n",
    "\n",
    "2. Is the Data assets gathered from multiple sources and technologies in order to do analysis with them. It could be described as the Data Scientist playground.\n",
    "It enables high performance analytics using in-database processing\n",
    "Reduces costs associated with data replication into “shadow” file systems\n",
    "“Analyst-owned”, rather than owned by the Data Base Administrator.\n",
    "\n",
    "3. The Data Scientist is more focused into the strategic part of insights, to ask questions no one has asked before. On the other hand, a Business Intelligence Analyst looks more into the standard metrics of performance.\n",
    "\n",
    "4. Basically Slow “time-to-insight” and reduced business impact:\n",
    "High-value data is hard to reach and leverage.\n",
    "Predictive analytics and data mining are last in line for data\n",
    "Data is moving in batches from EDW to local analytical tools\n",
    "Isolated, ad hoc analytical projects, rather than centrally-managed harnessing of analytics\n",
    "\n",
    "5. Data Scientists are: Curious, Skeptical, Technical, Quantitative, Communicative and Collaborative. they have to understand well the business in order to be able to design, implement and deploy statistical models on the data."
   ]
  }
 ],
 "metadata": {
  "kernelspec": {
   "display_name": "Python 2",
   "language": "python",
   "name": "python2"
  },
  "language_info": {
   "codemirror_mode": {
    "name": "ipython",
    "version": 2
   },
   "file_extension": ".py",
   "mimetype": "text/x-python",
   "name": "python",
   "nbconvert_exporter": "python",
   "pygments_lexer": "ipython2",
   "version": "2.7.9"
  }
 },
 "nbformat": 4,
 "nbformat_minor": 0
}
