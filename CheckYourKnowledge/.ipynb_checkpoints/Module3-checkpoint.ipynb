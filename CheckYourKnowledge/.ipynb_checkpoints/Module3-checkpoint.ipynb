{
 "cells": [
  {
   "cell_type": "markdown",
   "metadata": {},
   "source": [
    "### Questions"
   ]
  },
  {
   "cell_type": "markdown",
   "metadata": {},
   "source": [
    "###### Question Batch 1"
   ]
  },
  {
   "cell_type": "markdown",
   "metadata": {},
   "source": [
    "1. Which data structures in R are the most used? Why?\n",
    "\n",
    "2. Consider the cbind() function and the rbind() function that bind a vector to a data frame as a new column or a new row.When might these functions be useful? \n",
    "\n",
    "3. Do you think the regression line sufficiently captures the relationship between the two variables? What might you do differently? \n",
    "\n",
    "4. In the Iris slide example, how would you characterize the rela3onship between sepal width and sepal length? \n",
    "\n",
    "5. Did you notice the use of color in the Iris slide? Was it effec3ve? Why or why not? \n",
    "\n",
    "6. Refer back to the ANOVA example on an earlier slide. What do you think? Does the difference between offer1 and offer2 make a practical difference? Should we go ahead and implement one of them? \n",
    "\n",
    "7. If yes, and the costs were US 25 for each offer1 and US 10 for offer2, would you still make the same decision? \n",
    "\n",
    "8. In our manufacturing plant example, assuming you would check the plant for problems in the manufacturing process, how might you justify this decision financially? "
   ]
  },
  {
   "cell_type": "markdown",
   "metadata": {},
   "source": [
    "1. Normally the data structures more used are the data frames and lists, because it allows to manipulate an heterogenous dataset.\n",
    "\n",
    "2. These functions come in handy when exploring and preparing your dataset.\n",
    "cbind() helps when you want to add variables to a dataset.\n",
    "Rbind() when you need to add more instances to the data.\n",
    "\n",
    "3. A regression line could capture the relationship only if there is a linear correlation between the variables. It is important to visualize before analyzing in case that the regression line do not really represent the relationship (it could be quadratic, or even non existent).\n",
    "\n",
    "4. There is not a linear relationship between these two variables, they seem to have an even distribution.\n",
    "\n",
    "5. It is effective in order to distinguish the difference between the species, because in the plots it is noticeable that the species have similar features.\n",
    "\n",
    "6. Since both of the variables have a low p.adj, there is no appreciable difference between offer1 and offer 2. It is possible to implement one of them.\n",
    "\n",
    "7. In this case, the decision changes, since offer 1 became much more expensive than offer 2, while the purchase average has no significant difference.\n",
    "\n",
    "8. By proving that the actual confidence is lower than 98% and proving the cost of having more defects than expected."
   ]
  }
 ],
 "metadata": {
  "kernelspec": {
   "display_name": "Python 2",
   "language": "python",
   "name": "python2"
  },
  "language_info": {
   "codemirror_mode": {
    "name": "ipython",
    "version": 2
   },
   "file_extension": ".py",
   "mimetype": "text/x-python",
   "name": "python",
   "nbconvert_exporter": "python",
   "pygments_lexer": "ipython2",
   "version": "2.7.9"
  }
 },
 "nbformat": 4,
 "nbformat_minor": 0
}
